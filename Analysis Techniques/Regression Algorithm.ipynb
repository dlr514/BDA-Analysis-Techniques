{
 "cells": [
  {
   "cell_type": "code",
   "execution_count": 12,
   "id": "ba919936",
   "metadata": {},
   "outputs": [
    {
     "name": "stdout",
     "output_type": "stream",
     "text": [
      "Predictions: \n",
      "' [0.04935922 0.04935922 0.04935922 ... 0.04935922 0.04935922 0.04935922]\n",
      "Coefficients: \n",
      " [0.0846614  0.03482446]\n",
      "Variance Score: \n",
      " 0.002523553840082071\n",
      "R Squared Score: \n",
      " 0.00251704004025044\n"
     ]
    }
   ],
   "source": [
    "import pandas as pd\n",
    "import numpy as np\n",
    "from sklearn.metrics import explained_variance_score\n",
    "from sklearn.metrics import accuracy_score\n",
    "from sklearn.metrics import r2_score\n",
    "from sklearn import linear_model\n",
    "from sklearn.model_selection import train_test_split\n",
    "\n",
    "df = pd.read_csv('C:\\\\Users\\\\danie\\\\Desktop\\\\brfss.csv')\n",
    "\n",
    "X = df[['INCOME2_Less than $10,000','INCOME2_Less than $15,000 ($10,000 to less than $15,000)']]\n",
    "\n",
    "Y = df['_HCVU651_Do not have health care coverage']\n",
    "\n",
    "X_train,X_test,Y_train,Y_test = train_test_split(X,Y,test_size=0.25,random_state=0)\n",
    "\n",
    "regr = linear_model.LinearRegression() \n",
    "regr.fit(X_train, Y_train)\n",
    "y_pred = regr.predict(X_test)\n",
    "\n",
    "print(\"Predictions: \\n'\", y_pred)\n",
    "\n",
    "print('Coefficients: \\n', regr.coef_)\n",
    "# The mean squared error\n",
    "\n",
    "print('Variance Score: \\n', explained_variance_score(Y_test, y_pred, multioutput='uniform_average'))\n",
    "\n",
    "print('R Squared Score: \\n', r2_score(Y_test, y_pred))\n"
   ]
  },
  {
   "cell_type": "code",
   "execution_count": null,
   "id": "500a41dc",
   "metadata": {},
   "outputs": [],
   "source": []
  }
 ],
 "metadata": {
  "kernelspec": {
   "display_name": "Python 3",
   "language": "python",
   "name": "python3"
  },
  "language_info": {
   "codemirror_mode": {
    "name": "ipython",
    "version": 3
   },
   "file_extension": ".py",
   "mimetype": "text/x-python",
   "name": "python",
   "nbconvert_exporter": "python",
   "pygments_lexer": "ipython3",
   "version": "3.8.8"
  }
 },
 "nbformat": 4,
 "nbformat_minor": 5
}
